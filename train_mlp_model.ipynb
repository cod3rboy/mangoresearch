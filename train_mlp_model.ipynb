{
 "cells": [
  {
   "cell_type": "markdown",
   "metadata": {},
   "source": [
    "# Model Training Script\n",
    "### This script is used to create MLP (Multi Layer Perceptron) Classifier for classifying mango variety using feature vector of mango leaf."
   ]
  },
  {
   "cell_type": "code",
   "execution_count": 185,
   "metadata": {},
   "outputs": [],
   "source": [
    "import os\n",
    "import numpy as np\n",
    "import pandas\n",
    "import joblib\n",
    "from sklearn.neural_network import MLPClassifier\n",
    "from sklearn.model_selection import train_test_split\n",
    "from sklearn.metrics import confusion_matrix"
   ]
  },
  {
   "cell_type": "markdown",
   "metadata": {},
   "source": [
    "### Prepare dataset directory and load dataset csv file into Pandas DataFrame"
   ]
  },
  {
   "cell_type": "code",
   "execution_count": 186,
   "metadata": {},
   "outputs": [],
   "source": [
    "# Leaves Dataset Folder Name\n",
    "dataset_folder = 'MangoLeavesDatabase'\n",
    "# Leaves Dataset File Name\n",
    "dataset_filename = 'labeled_haar_dataset.csv'\n",
    "# Current working directory\n",
    "cwd = os.getcwd()\n",
    "# Load the dataset from CSV file into pandas DataFrame\n",
    "data = pandas.read_csv(os.path.join(cwd, dataset_folder, dataset_filename))"
   ]
  },
  {
   "cell_type": "markdown",
   "metadata": {},
   "source": [
    "### Create lists of feature vectors and corresponding labels from dataframe"
   ]
  },
  {
   "cell_type": "code",
   "execution_count": 187,
   "metadata": {},
   "outputs": [],
   "source": [
    "# Mapping of string labels to numeric value\n",
    "label_map = {\n",
    "    'alphonso': 0,\n",
    "    'amrapali': 1,\n",
    "    'chausa': 2,\n",
    "    'dusheri': 3,\n",
    "    'langra': 4\n",
    "}\n",
    "# List of feature vectors\n",
    "X = data.iloc[:, 1:len(data.columns)-1].to_numpy(copy=True)\n",
    "# List of corresponding label to each feature vector\n",
    "Y = data.iloc[:,-1].to_numpy(copy=True)\n",
    "# Map string labels to numeric values\n",
    "Y = np.array([label_map[label] for label in Y])"
   ]
  },
  {
   "cell_type": "markdown",
   "metadata": {},
   "source": [
    "### Create and Split Training and Test Data"
   ]
  },
  {
   "cell_type": "code",
   "execution_count": 188,
   "metadata": {},
   "outputs": [],
   "source": [
    "X_train, X_test, Y_train, Y_test = train_test_split(X, Y, train_size=0.75, test_size=0.25, shuffle=True)"
   ]
  },
  {
   "cell_type": "markdown",
   "metadata": {},
   "source": [
    "### Train and Test MLP Classifier"
   ]
  },
  {
   "cell_type": "code",
   "execution_count": 189,
   "metadata": {},
   "outputs": [],
   "source": [
    "# Train MLP Classifer Model using training data\n",
    "classifier = MLPClassifier(hidden_layer_sizes=(15,15,15), max_iter=2000)\n",
    "\n",
    "classifier.fit(X_train, Y_train)\n",
    "\n",
    "# Model predictions using test data\n",
    "predictions = classifier.predict(X_test) \n",
    "  \n",
    "# model accuracy for X_test\n",
    "accuracy = classifier.score(X_test, Y_test)\n",
    "  \n",
    "# creating a confusion matrix\n",
    "cm = confusion_matrix(Y_test, predictions)"
   ]
  },
  {
   "cell_type": "code",
   "execution_count": 190,
   "metadata": {},
   "outputs": [
    {
     "output_type": "stream",
     "name": "stdout",
     "text": "0.24778761061946902\n"
    }
   ],
   "source": [
    "print(accuracy)"
   ]
  },
  {
   "cell_type": "code",
   "execution_count": 191,
   "metadata": {},
   "outputs": [
    {
     "output_type": "stream",
     "name": "stdout",
     "text": "[[ 0  3  8  5 30]\n [ 2  7  3  0 20]\n [ 0  3  9  2 27]\n [ 2  3  6  1 34]\n [ 2  6 11  3 39]]\n"
    }
   ],
   "source": [
    "print(cm)"
   ]
  },
  {
   "cell_type": "markdown",
   "metadata": {},
   "source": [
    "### Serialize MLP classifier to a file"
   ]
  },
  {
   "cell_type": "code",
   "execution_count": 192,
   "metadata": {},
   "outputs": [
    {
     "output_type": "execute_result",
     "data": {
      "text/plain": "['mango_leaf_classifier.mlp']"
     },
     "metadata": {},
     "execution_count": 192
    }
   ],
   "source": [
    "model_file_name = \"mango_leaf_classifier.mlp\"\n",
    "# Writes MLP classifier to a file\n",
    "joblib.dump(classifier, model_file_name)"
   ]
  }
 ],
 "metadata": {
  "kernelspec": {
   "display_name": "Python 3",
   "language": "python",
   "name": "python3"
  },
  "language_info": {
   "codemirror_mode": {
    "name": "ipython",
    "version": 3
   },
   "file_extension": ".py",
   "mimetype": "text/x-python",
   "name": "python",
   "nbconvert_exporter": "python",
   "pygments_lexer": "ipython3",
   "version": "3.8.1-final"
  }
 },
 "nbformat": 4,
 "nbformat_minor": 4
}