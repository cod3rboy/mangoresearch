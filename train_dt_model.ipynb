{
 "cells": [
  {
   "cell_type": "markdown",
   "metadata": {},
   "source": [
    "# Model Training Script\n",
    "### This script is used to create Decision Tree Classifier model for classifying mango variety using feature vector of mango leaf."
   ]
  },
  {
   "cell_type": "code",
   "execution_count": 57,
   "metadata": {},
   "outputs": [],
   "source": [
    "import os\n",
    "import numpy as np\n",
    "import pandas\n",
    "import joblib\n",
    "from sklearn.tree import DecisionTreeClassifier\n",
    "from sklearn.model_selection import train_test_split\n",
    "from sklearn.metrics import confusion_matrix"
   ]
  },
  {
   "cell_type": "markdown",
   "metadata": {},
   "source": [
    "### Prepare dataset directory and load dataset csv file into Pandas DataFrame"
   ]
  },
  {
   "cell_type": "code",
   "execution_count": 58,
   "metadata": {},
   "outputs": [],
   "source": [
    "# Leaves Dataset Folder Name\n",
    "dataset_folder = 'PreprocessedDatabase'\n",
    "# Leaves Dataset File Name\n",
    "dataset_filename = 'labeled_dataset.csv'\n",
    "# Current working directory\n",
    "cwd = os.getcwd()\n",
    "# Load the dataset from CSV file into pandas DataFrame\n",
    "data = pandas.read_csv(os.path.join(cwd, dataset_folder, dataset_filename))"
   ]
  },
  {
   "cell_type": "markdown",
   "metadata": {},
   "source": [
    "### Create lists of feature vectors and corresponding labels from dataframe"
   ]
  },
  {
   "cell_type": "code",
   "execution_count": 59,
   "metadata": {},
   "outputs": [],
   "source": [
    "# Mapping of string labels to numeric value\n",
    "label_map = {\n",
    "    'alphonso': 0,\n",
    "    'amrapali': 1,\n",
    "    'chausa': 2,\n",
    "    'dusheri': 3,\n",
    "    'langra': 4\n",
    "}\n",
    "# List of feature vectors\n",
    "X = data.iloc[:, :len(data.columns)-1].to_numpy(copy=True)\n",
    "# List of corresponding label to each feature vector\n",
    "Y = data.iloc[:,-1].to_numpy(copy=True)\n",
    "# Map string labels to numeric values\n",
    "Y = np.array([label_map[label] for label in Y])"
   ]
  },
  {
   "cell_type": "markdown",
   "metadata": {},
   "source": [
    "### Create and Split Training and Test Data"
   ]
  },
  {
   "cell_type": "code",
   "execution_count": 60,
   "metadata": {},
   "outputs": [],
   "source": [
    "X_train, X_test, Y_train, Y_test = train_test_split(X, Y, train_size=0.75, test_size=0.25, shuffle=True)"
   ]
  },
  {
   "cell_type": "markdown",
   "metadata": {},
   "source": [
    "### Train and Test Decision Tree Classifier"
   ]
  },
  {
   "cell_type": "code",
   "execution_count": 61,
   "metadata": {},
   "outputs": [],
   "source": [
    "# Train Decision Tree Model using training data\n",
    "classifier = DecisionTreeClassifier()\n",
    "classifier.fit(X_train, Y_train)\n",
    "\n",
    "# Model predictions using test data\n",
    "nb_predictions = classifier.predict(X_test) \n",
    "  \n",
    "# model accuracy for X_test\n",
    "accuracy = classifier.score(X_test, Y_test)\n",
    "  \n",
    "# creating a confusion matrix\n",
    "cm = confusion_matrix(Y_test, nb_predictions)"
   ]
  },
  {
   "cell_type": "code",
   "execution_count": 62,
   "metadata": {},
   "outputs": [
    {
     "output_type": "stream",
     "name": "stdout",
     "text": "0.7085201793721974\n"
    }
   ],
   "source": [
    "print(accuracy)"
   ]
  },
  {
   "cell_type": "code",
   "execution_count": 63,
   "metadata": {},
   "outputs": [
    {
     "output_type": "stream",
     "name": "stdout",
     "text": "[[32  0  3  2  6]\n [ 2 27  1 11  2]\n [ 5  0 26  0  5]\n [ 2  7  0 34  0]\n [ 3  2 11  3 39]]\n"
    }
   ],
   "source": [
    "print(cm)"
   ]
  },
  {
   "cell_type": "markdown",
   "metadata": {},
   "source": [
    "### Serialize Decision Tree classifier to a file"
   ]
  },
  {
   "cell_type": "code",
   "execution_count": 64,
   "metadata": {},
   "outputs": [
    {
     "output_type": "execute_result",
     "data": {
      "text/plain": "['mango_leaf_classifier.dt']"
     },
     "metadata": {},
     "execution_count": 64
    }
   ],
   "source": [
    "model_file_name = \"mango_leaf_classifier.dt\"\n",
    "# Writes Decision Tree classifier to a file\n",
    "joblib.dump(classifier, model_file_name)"
   ]
  }
 ],
 "metadata": {
  "kernelspec": {
   "display_name": "Python 3.7.5 64-bit",
   "language": "python",
   "name": "python37564bit16bfccd637014070bb78f16ad8819a3c"
  },
  "language_info": {
   "codemirror_mode": {
    "name": "ipython",
    "version": 3
   },
   "file_extension": ".py",
   "mimetype": "text/x-python",
   "name": "python",
   "nbconvert_exporter": "python",
   "pygments_lexer": "ipython3",
   "version": "3.7.5-final"
  }
 },
 "nbformat": 4,
 "nbformat_minor": 4
}