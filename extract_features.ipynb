{
 "cells": [
  {
   "cell_type": "markdown",
   "metadata": {},
   "source": [
    "# Feature Extraction Script\n",
    "\n",
    "### This script is used to extract mango leaf features from the mango leaves dataset and generate a CSV file for training the classification model."
   ]
  },
  {
   "cell_type": "code",
   "execution_count": 1,
   "metadata": {},
   "outputs": [],
   "source": [
    "import numpy as np\n",
    "import pandas as pd\n",
    "import cv2\n",
    "import os\n",
    "import utils\n",
    "from collections import namedtuple"
   ]
  },
  {
   "cell_type": "markdown",
   "metadata": {},
   "source": [
    "### Feature Extration Function"
   ]
  },
  {
   "cell_type": "code",
   "execution_count": 2,
   "metadata": {},
   "outputs": [],
   "source": [
    "def extract_features(image_path):\n",
    "    \"\"\"\n",
    "    This function extracts the following features from an image at a given path and return those features as\n",
    "    a namedtuple object.\n",
    "    Features :-\n",
    "    1. Aspect Ratio\n",
    "    2. Leaf Area\n",
    "    3. Leaf Margin Perimeter\n",
    "    4. Form Factor\n",
    "    5. Mean Color\n",
    "    \n",
    "    These features can be accessed in the returned namedtuple object by using following attributes on that object :-\n",
    "    1. aspectratio - Aspect Ratio of Leaf\n",
    "    2. area - Leaf Area to bounding rectangle area ratio\n",
    "    3. perimeter - Leaf Perimeter to bounding rectangle perimeter ratio\n",
    "    4. formfactor - Form Factor\n",
    "    5. meancolor - Mean Color\n",
    "    \n",
    "    arguments:\n",
    "     image_path - string containing path to leaf image file.\n",
    "    returns:\n",
    "     namedtuple object containing extracted features of the leaf.\n",
    "    \"\"\"\n",
    "    # Read image from image file\n",
    "    bgr_image = cv2.imread(image_path)\n",
    "    # Obtain RGB and Grayscale images\n",
    "    rgb_image = cv2.cvtColor(bgr_image, cv2.COLOR_BGR2RGB)\n",
    "    # Apply K-Means to reduce color space in image\n",
    "    img_pixels = np.float32(rgb_image.reshape((-1, 3)))\n",
    "    criteria = (cv2.TERM_CRITERIA_EPS + cv2.TERM_CRITERIA_MAX_ITER, 10, 1.0)\n",
    "    K = 10 # no of clusters\n",
    "    ret,labels,centers = cv2.kmeans(img_pixels, K, None, criteria, 10, cv2.KMEANS_RANDOM_CENTERS)\n",
    "    centers = np.uint8(centers)\n",
    "    cluster_img = centers[labels.flatten()]\n",
    "    # Set shadow bluish pixels to white\n",
    "    for i,p in enumerate(cluster_img):\n",
    "        max_intensity = max(p)\n",
    "        if max_intensity == p[2]:\n",
    "            cluster_img[i] = [255, 255, 255]\n",
    "    cluster_img = cluster_img.reshape(rgb_image.shape)\n",
    "    # Apply binary otsu thresholdng to grayscale image\n",
    "    gray_image = cv2.cvtColor(cluster_img, cv2.COLOR_RGB2GRAY)\n",
    "    ostu_value, thresh_image = cv2.threshold(gray_image,0, 255,cv2.THRESH_BINARY_INV+cv2.THRESH_OTSU)\n",
    "    # Find all contours in thresholded image using RETR_EXTERNAL method\n",
    "    image_contours, _ = cv2.findContours(thresh_image, cv2.RETR_EXTERNAL, cv2.CHAIN_APPROX_SIMPLE)\n",
    "    # Find leaf contour among all contours\n",
    "    leaf_contour = max(image_contours, key=cv2.contourArea) # Contour having maximum area is our leaf contour\n",
    "    \n",
    "    # FEATURE - Aspect Ratio\n",
    "    x, y, w, h = cv2.boundingRect(leaf_contour)\n",
    "    aspectratio = h / w\n",
    "    \n",
    "    # FEATURE - Area\n",
    "    area = cv2.contourArea(leaf_contour)\n",
    "    area_ratio = area / (w * h)\n",
    "    \n",
    "    # FEATURE - Perimeter\n",
    "    perimeter = cv2.arcLength(leaf_contour, True)\n",
    "    perimeter_ratio = perimeter / (2 * (w + h))\n",
    "    \n",
    "    # FEATURE - Form Factor\n",
    "    formfactor = (4 * np.pi * area) / perimeter ** 2\n",
    "    \n",
    "    # FEATURE - Mean Color\n",
    "    # Cropping rgb image using bounding rectangle of leaf contour\n",
    "    cropped_image = rgb_image[y:y+h, x:x+w]\n",
    "    r_mean = int(np.mean(cropped_image[: ,: ,0])) / 255\n",
    "    g_mean = int(np.mean(cropped_image[: ,: ,1])) / 255\n",
    "    b_mean = int(np.mean(cropped_image[: ,: ,2])) / 255\n",
    "    meancolor = (r_mean, g_mean, b_mean)\n",
    "    \n",
    "    # Create and return namedtuple containing extracted features\n",
    "    Feature = namedtuple('Feature', ['aspectratio', 'area', 'perimeter', 'formfactor', 'meancolor'])\n",
    "    leaf_feature = Feature(\n",
    "        aspectratio=aspectratio,\n",
    "        area=area_ratio,\n",
    "        perimeter=perimeter_ratio,\n",
    "        formfactor=formfactor,\n",
    "        meancolor=meancolor)\n",
    "    return leaf_feature"
   ]
  },
  {
   "cell_type": "markdown",
   "metadata": {},
   "source": [
    "### Prepare dataset directories and image files paths"
   ]
  },
  {
   "cell_type": "code",
   "execution_count": 3,
   "metadata": {},
   "outputs": [],
   "source": [
    "# Leaves Dataset Folder Name\n",
    "dataset = 'MangoLeavesDatabase'\n",
    "# Get Current Working directory\n",
    "working_dir = os.getcwd()\n",
    "# Generate paths for varieties\n",
    "paths = {\n",
    "    'alphonso': os.path.join(working_dir, dataset, 'alphonso/'), # For now only using leaf front images\n",
    "    'amrapali': os.path.join(working_dir, dataset, 'amrapali/'),\n",
    "    'chausa': os.path.join(working_dir, dataset, 'chausa/'),\n",
    "    'dusheri': os.path.join(working_dir, dataset, 'dusheri/'),\n",
    "    'langra': os.path.join(working_dir, dataset, 'langra/'),\n",
    "}\n",
    "# Generate a dictionary storing lists of image paths of a particular variety accessible using corresponding variety name. \n",
    "image_dict = dict()\n",
    "for label, path in paths.items():\n",
    "    image_dict[label] = utils.get_file_paths(path, ['.jpg'])\n",
    "# CSV file output path\n",
    "csv_file_output_path = os.path.join(working_dir, dataset, 'labeled_dataset.csv')"
   ]
  },
  {
   "cell_type": "markdown",
   "metadata": {},
   "source": [
    "### Generate Pandas DataFrame containing extracted features for each image file. If M features are extracted from N images then DataFrame will be of N x M dimension."
   ]
  },
  {
   "cell_type": "code",
   "execution_count": 4,
   "metadata": {},
   "outputs": [],
   "source": [
    "# Columns of the data\n",
    "cols = ['aspectratio', 'area', 'perimeter', 'formfactor', 'meanR', 'meanG', 'meanB', 'label']\n",
    "# Create an empty dataframe with above columns\n",
    "data = pd.DataFrame(columns=cols)\n",
    "# Extract image features of each image of each variety\n",
    "for label, path_list in image_dict.items():\n",
    "    for image_path in path_list:\n",
    "        features = extract_features(image_path)\n",
    "        data = data.append({\n",
    "            cols[0]: features.aspectratio,\n",
    "            cols[1]: features.area,\n",
    "            cols[2]: features.perimeter,\n",
    "            cols[3]: features.formfactor,\n",
    "            cols[4]: features.meancolor[0],\n",
    "            cols[5]: features.meancolor[1],\n",
    "            cols[6]: features.meancolor[2],\n",
    "            cols[7]: label,\n",
    "        }, ignore_index=True)"
   ]
  },
  {
   "cell_type": "markdown",
   "metadata": {},
   "source": [
    "### Export Data to CSV File"
   ]
  },
  {
   "cell_type": "code",
   "execution_count": 5,
   "metadata": {},
   "outputs": [],
   "source": [
    "# Shuffle the rows of data before saving\n",
    "data = data.sample(frac=1).reset_index(drop=True)\n",
    "data.to_csv(csv_file_output_path, index=False)"
   ]
  }
 ],
 "metadata": {
  "kernelspec": {
   "display_name": "Python 3",
   "language": "python",
   "name": "python3"
  },
  "language_info": {
   "codemirror_mode": {
    "name": "ipython",
    "version": 3
   },
   "file_extension": ".py",
   "mimetype": "text/x-python",
   "name": "python",
   "nbconvert_exporter": "python",
   "pygments_lexer": "ipython3",
   "version": "3.8.1-final"
  }
 },
 "nbformat": 4,
 "nbformat_minor": 4
}