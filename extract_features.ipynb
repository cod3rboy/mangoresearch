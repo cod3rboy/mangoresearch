{
 "cells": [
  {
   "cell_type": "markdown",
   "metadata": {},
   "source": [
    "# Feature Extraction Script\n",
    "\n",
    "### This script is used to extract mango leaf features from the mango leaves dataset and generate a CSV file for training the classification model."
   ]
  },
  {
   "cell_type": "code",
   "execution_count": 34,
   "metadata": {},
   "outputs": [],
   "source": [
    "import numpy as np\n",
    "import pandas as pd\n",
    "import cv2\n",
    "import os\n",
    "import utils\n",
    "from collections import namedtuple"
   ]
  },
  {
   "cell_type": "markdown",
   "metadata": {},
   "source": [
    "### Feature Extration Function"
   ]
  },
  {
   "cell_type": "code",
   "execution_count": 35,
   "metadata": {},
   "outputs": [],
   "source": [
    "def extract_features(image_path):\n",
    "    \"\"\"\n",
    "    This function extracts the following features from an image at a given path and return those features as\n",
    "    a namedtuple object.\n",
    "    Features :-\n",
    "    1. Centroid\n",
    "    2. Aspect Ratio\n",
    "    3. Leaf Area\n",
    "    4. Leaf Margin Perimeter\n",
    "    5. Form Factor\n",
    "    6. Mean Color\n",
    "    \n",
    "    These features can be accessed in the returned namedtuple object by using following attributes on that object :-\n",
    "    1. centroid - Centroid of Leaf\n",
    "    2. aspectratio - Aspect Ratio of Leaf\n",
    "    3. area - Leaf Area\n",
    "    4. perimeter - Leaf Perimeter\n",
    "    5. formfactor - Form Factor\n",
    "    6. meancolor - Mean Color\n",
    "    \n",
    "    arguments:\n",
    "     image_path - string containing path to leaf image file.\n",
    "    returns:\n",
    "     namedtuple object containing extracted features of the leaf.\n",
    "    \"\"\"\n",
    "    # Read image from image file\n",
    "    bgr_image = cv2.imread(image_path)\n",
    "    # Obtain RGB and Grayscale images\n",
    "    rgb_image = cv2.cvtColor(bgr_image, cv2.COLOR_BGR2RGB)\n",
    "    gray_image = cv2.cvtColor(bgr_image, cv2.COLOR_BGR2GRAY)\n",
    "    # Apply binary otsu thresholdng to grayscale image\n",
    "    ostu_value, thresh_image = cv2.threshold(gray_image,0, 255,cv2.THRESH_BINARY_INV+cv2.THRESH_OTSU)\n",
    "    # Find all contours in thresholded image using RETR_EXTERNAL method\n",
    "    image_contours, _ = cv2.findContours(thresh_image, cv2.RETR_EXTERNAL, cv2.CHAIN_APPROX_SIMPLE)\n",
    "    # Find leaf contour among all contours\n",
    "    leaf_contour = max(image_contours, key=cv2.contourArea) # Contour having maximum area is our leaf contour\n",
    "    # Find moments of leaf contour to make measurements\n",
    "    M = cv2.moments(leaf_contour)\n",
    "    # FEATURE - Centroid\n",
    "    if M[\"m00\"] != 0:\n",
    "        cX = int(M[\"m10\"] / M[\"m00\"])\n",
    "        cY = int(M[\"m01\"] / M[\"m00\"])\n",
    "    else:\n",
    "        cX, cY = 0, 0\n",
    "    centroid = (cX, cY)\n",
    "    \n",
    "    # FEATURE - Aspect Ratio\n",
    "    x, y, w, h = cv2.boundingRect(leaf_contour)\n",
    "    aspectratio = w / h\n",
    "    \n",
    "    # FEATURE - Area\n",
    "    area = cv2.contourArea(leaf_contour)\n",
    "    \n",
    "    # FEATURE - Perimeter\n",
    "    perimeter = cv2.arcLength(leaf_contour, True)\n",
    "    \n",
    "    # FEATURE - Form Factor\n",
    "    formfactor = (4 * np.pi * area) / perimeter ** 2\n",
    "    \n",
    "    # FEATURE - Mean Color\n",
    "    # Cropping rgb image using bounding rectangle of leaf contour\n",
    "    cropped_image = rgb_image[y:y+h, x:x+w]\n",
    "    r_mean = int(np.mean(cropped_image[: ,: ,0]))\n",
    "    g_mean = int(np.mean(cropped_image[: ,: ,1]))\n",
    "    b_mean = int(np.mean(cropped_image[: ,: ,2]))\n",
    "    meancolor = (r_mean, g_mean, b_mean)\n",
    "    \n",
    "    # Create and return namedtuple containing extracted features\n",
    "    Feature = namedtuple('Feature', ['centroid', 'aspectratio', 'area', 'perimeter', 'formfactor', 'meancolor'])\n",
    "    leaf_feature = Feature(\n",
    "        centroid=centroid,\n",
    "        aspectratio=aspectratio,\n",
    "        area=area,\n",
    "        perimeter=perimeter,\n",
    "        formfactor=formfactor,\n",
    "        meancolor=meancolor)\n",
    "    return leaf_feature"
   ]
  },
  {
   "cell_type": "markdown",
   "metadata": {},
   "source": [
    "### Prepare dataset directories and image files paths"
   ]
  },
  {
   "cell_type": "code",
   "execution_count": 36,
   "metadata": {},
   "outputs": [],
   "source": [
    "# Leaves Dataset Folder Name\n",
    "dataset = 'MangoLeavesDatabase'\n",
    "# Get Current Working directory\n",
    "working_dir = os.getcwd()\n",
    "# Generate paths for varieties\n",
    "paths = {\n",
    "    'alphonso': os.path.join(working_dir, dataset, 'alphonso/front'), # For now only using leaf front images\n",
    "    'amrapali': os.path.join(working_dir, dataset, 'amrapali/front'),\n",
    "    'chausa': os.path.join(working_dir, dataset, 'chausa/front'),\n",
    "    'dusheri': os.path.join(working_dir, dataset, 'dusheri/front'),\n",
    "    'langra': os.path.join(working_dir, dataset, 'langra/front'),\n",
    "}\n",
    "# Generate a dictionary storing lists of image paths of a particular variety accessible using corresponding variety name. \n",
    "image_dict = dict()\n",
    "for label, path in paths.items():\n",
    "    image_dict[label] = utils.get_file_paths(path, ['.jpg'])\n",
    "# CSV file output path\n",
    "csv_file_output_path = os.path.join(working_dir, dataset, 'labeled_dataset.csv')"
   ]
  },
  {
   "cell_type": "markdown",
   "metadata": {},
   "source": [
    "### Generate Pandas DataFrame containing extracted features for each image file. If M features are extracted from N images then DataFrame will be of N x M dimension."
   ]
  },
  {
   "cell_type": "code",
   "execution_count": 37,
   "metadata": {},
   "outputs": [],
   "source": [
    "# Columns of the data\n",
    "cols = ['centerX', 'centerY', 'aspectratio', 'area', 'perimeter', 'formfactor', 'meanR', 'meanG', 'meanB', 'label']\n",
    "# Create an empty dataframe with above columns\n",
    "data = pd.DataFrame(columns=cols)\n",
    "# Extract image features of each image of each variety\n",
    "for label, path_list in image_dict.items():\n",
    "    for image_path in path_list:\n",
    "        features = extract_features(image_path)\n",
    "        data = data.append({\n",
    "            cols[0]: features.centroid[0],\n",
    "            cols[1]: features.centroid[1],\n",
    "            cols[2]: features.aspectratio,\n",
    "            cols[3]: features.area,\n",
    "            cols[4]: features.perimeter,\n",
    "            cols[5]: features.formfactor,\n",
    "            cols[6]: features.meancolor[0],\n",
    "            cols[7]: features.meancolor[1],\n",
    "            cols[8]: features.meancolor[2],\n",
    "            cols[9]: label,\n",
    "        }, ignore_index=True)"
   ]
  },
  {
   "cell_type": "markdown",
   "metadata": {},
   "source": [
    "### Export Data to CSV File"
   ]
  },
  {
   "cell_type": "code",
   "execution_count": 38,
   "metadata": {},
   "outputs": [],
   "source": [
    "data.to_csv(csv_file_output_path)"
   ]
  }
 ],
 "metadata": {
  "kernelspec": {
   "display_name": "Python 3",
   "language": "python",
   "name": "python3"
  },
  "language_info": {
   "codemirror_mode": {
    "name": "ipython",
    "version": 3
   },
   "file_extension": ".py",
   "mimetype": "text/x-python",
   "name": "python",
   "nbconvert_exporter": "python",
   "pygments_lexer": "ipython3",
   "version": "3.8.1"
  }
 },
 "nbformat": 4,
 "nbformat_minor": 4
}
