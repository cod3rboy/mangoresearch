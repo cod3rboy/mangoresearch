{
 "cells": [
  {
   "cell_type": "markdown",
   "metadata": {},
   "source": [
    "# Model Training Script\n",
    "### This script is used to create SVM Classifier model for classifying mango variety using feature vector of mango leaf."
   ]
  },
  {
   "cell_type": "code",
   "execution_count": 49,
   "metadata": {},
   "outputs": [],
   "source": [
    "import os\n",
    "import numpy as np\n",
    "import pandas\n",
    "from sklearn import svm\n",
    "from sklearn.model_selection import train_test_split\n",
    "from sklearn.metrics import confusion_matrix"
   ]
  },
  {
   "cell_type": "markdown",
   "metadata": {},
   "source": [
    "### Prepare dataset directory and load dataset csv file into Pandas DataFrame"
   ]
  },
  {
   "cell_type": "code",
   "execution_count": 50,
   "metadata": {},
   "outputs": [],
   "source": [
    "# Leaves Dataset Folder Name\n",
    "dataset_folder = 'MangoLeavesDatabase'\n",
    "# Leaves Dataset File Name\n",
    "dataset_filename = 'labeled_dataset.csv'\n",
    "# Current working directory\n",
    "cwd = os.getcwd()\n",
    "# Load the dataset from CSV file into pandas DataFrame\n",
    "data = pandas.read_csv(os.path.join(cwd, dataset_folder, dataset_filename))"
   ]
  },
  {
   "cell_type": "markdown",
   "metadata": {},
   "source": [
    "### Create lists of feature vectors and corresponding labels from dataframe"
   ]
  },
  {
   "cell_type": "code",
   "execution_count": 51,
   "metadata": {},
   "outputs": [],
   "source": [
    "# Mapping of string labels to numeric value\n",
    "label_map = {\n",
    "    'alphonso': 0,\n",
    "    'amrapali': 1,\n",
    "    'chausa': 2,\n",
    "    'dusheri': 3,\n",
    "    'langra': 4\n",
    "}\n",
    "# List of feature vectors\n",
    "X = data.iloc[:, 1:len(data.columns)-1].to_numpy(copy=True)\n",
    "# List of corresponding label to each feature vector\n",
    "Y = data.iloc[:,-1].to_numpy(copy=True)\n",
    "# Map string labels to numeric values\n",
    "Y = np.array([label_map[label] for label in Y])"
   ]
  },
  {
   "cell_type": "markdown",
   "metadata": {},
   "source": [
    "### Create and Split Training and Test Data"
   ]
  },
  {
   "cell_type": "code",
   "execution_count": 52,
   "metadata": {},
   "outputs": [],
   "source": [
    "X_train, X_test, Y_train, Y_test = train_test_split(X, Y, train_size=0.75, test_size=0.25, shuffle=True)"
   ]
  },
  {
   "cell_type": "markdown",
   "metadata": {},
   "source": [
    "### Train and Test Support Vector Classifier"
   ]
  },
  {
   "cell_type": "code",
   "execution_count": 69,
   "metadata": {},
   "outputs": [],
   "source": [
    "# Train SVM Model using training data\n",
    "svm_model = svm.SVC(kernel = 'linear', C = 1, decision_function_shape='ovo').fit(X_train, Y_train)\n",
    "\n",
    "# Model predictions using test data\n",
    "svm_predictions = svm_model.predict(X_test) \n",
    "  \n",
    "# model accuracy for X_test   \n",
    "accuracy = svm_model.score(X_test, Y_test) \n",
    "  \n",
    "# creating a confusion matrix\n",
    "cm = confusion_matrix(Y_test, svm_predictions)"
   ]
  },
  {
   "cell_type": "code",
   "execution_count": 70,
   "metadata": {},
   "outputs": [
    {
     "name": "stdout",
     "output_type": "stream",
     "text": [
      "0.16071428571428573\n"
     ]
    }
   ],
   "source": [
    "print(accuracy)"
   ]
  },
  {
   "cell_type": "code",
   "execution_count": 71,
   "metadata": {},
   "outputs": [
    {
     "name": "stdout",
     "output_type": "stream",
     "text": [
      "[[ 0  0  1  0 12]\n",
      " [ 0  0  0  0 13]\n",
      " [ 0  0  3  0  6]\n",
      " [ 0  0  1  0 13]\n",
      " [ 0  0  1  0  6]]\n"
     ]
    }
   ],
   "source": [
    "print(cm)"
   ]
  },
  {
   "cell_type": "code",
   "execution_count": null,
   "metadata": {},
   "outputs": [],
   "source": []
  }
 ],
 "metadata": {
  "kernelspec": {
   "display_name": "Python 3",
   "language": "python",
   "name": "python3"
  },
  "language_info": {
   "codemirror_mode": {
    "name": "ipython",
    "version": 3
   },
   "file_extension": ".py",
   "mimetype": "text/x-python",
   "name": "python",
   "nbconvert_exporter": "python",
   "pygments_lexer": "ipython3",
   "version": "3.8.1"
  }
 },
 "nbformat": 4,
 "nbformat_minor": 4
}
