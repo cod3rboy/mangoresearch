{
 "cells": [
  {
   "cell_type": "markdown",
   "metadata": {},
   "source": [
    "# Model Training Script\n",
    "### This script is used to create Random Forest Classifier model for classifying mango variety using feature vector of mango leaf."
   ]
  },
  {
   "cell_type": "code",
   "execution_count": 3681,
   "metadata": {},
   "outputs": [],
   "source": [
    "import os\n",
    "import numpy as np\n",
    "import pandas\n",
    "import joblib\n",
    "from sklearn.ensemble import RandomForestClassifier\n",
    "from sklearn.model_selection import train_test_split\n",
    "from sklearn.metrics import confusion_matrix"
   ]
  },
  {
   "cell_type": "markdown",
   "metadata": {},
   "source": [
    "### Prepare dataset directory and load dataset csv file into Pandas DataFrame"
   ]
  },
  {
   "cell_type": "code",
   "execution_count": 3682,
   "metadata": {},
   "outputs": [],
   "source": [
    "# Leaves Dataset Folder Name\n",
    "dataset_folder = 'PreprocessedDatabase'\n",
    "# Leaves Dataset File Name\n",
    "dataset_filename = 'labeled_dataset.csv'\n",
    "# Current working directory\n",
    "cwd = os.getcwd()\n",
    "# Load the dataset from CSV file into pandas DataFrame\n",
    "data = pandas.read_csv(os.path.join(cwd, dataset_folder, dataset_filename))"
   ]
  },
  {
   "cell_type": "markdown",
   "metadata": {},
   "source": [
    "### Create lists of feature vectors and corresponding labels from dataframe"
   ]
  },
  {
   "cell_type": "code",
   "execution_count": 3683,
   "metadata": {},
   "outputs": [],
   "source": [
    "# Mapping of string labels to numeric value\n",
    "label_map = {\n",
    "    'alphonso': 0,\n",
    "    'amrapali': 1,\n",
    "    'chausa': 2,\n",
    "    'dusheri': 3,\n",
    "    'langra': 4\n",
    "}\n",
    "# List of feature vectors\n",
    "X = data.iloc[:, :len(data.columns)-1].to_numpy(copy=True)\n",
    "# List of corresponding label to each feature vector\n",
    "Y = data.iloc[:,-1].to_numpy(copy=True)\n",
    "# Map string labels to numeric values\n",
    "Y = np.array([label_map[label] for label in Y])"
   ]
  },
  {
   "cell_type": "markdown",
   "metadata": {},
   "source": [
    "### Create and Split Training and Test Data"
   ]
  },
  {
   "cell_type": "code",
   "execution_count": 3684,
   "metadata": {},
   "outputs": [],
   "source": [
    "X_train, X_test, Y_train, Y_test = train_test_split(X, Y, train_size=0.8, test_size=0.2, shuffle=True)"
   ]
  },
  {
   "cell_type": "markdown",
   "metadata": {},
   "source": [
    "### Train and Test Random Forest Classifier"
   ]
  },
  {
   "cell_type": "code",
   "execution_count": 3685,
   "metadata": {},
   "outputs": [],
   "source": [
    "# Train Random Forest Classifier using training data\n",
    "rf_classifier = RandomForestClassifier(n_estimators=70, random_state=0, max_depth=25)\n",
    "rf_classifier.fit(X_train, Y_train)\n",
    "\n",
    "# Predictions using test data\n",
    "predictions = rf_classifier.predict(X_test) \n",
    "  \n",
    "# Accuracy for X_test   \n",
    "accuracy = rf_classifier.score(X_test, Y_test)\n",
    "  \n",
    "# creating a confusion matrix\n",
    "cm = confusion_matrix(Y_test, predictions)"
   ]
  },
  {
   "cell_type": "code",
   "execution_count": 3686,
   "metadata": {},
   "outputs": [
    {
     "output_type": "stream",
     "name": "stdout",
     "text": "0.7039106145251397\n"
    }
   ],
   "source": [
    "print(accuracy)"
   ]
  },
  {
   "cell_type": "code",
   "execution_count": 3687,
   "metadata": {},
   "outputs": [
    {
     "output_type": "stream",
     "name": "stdout",
     "text": "[[22  3  2  1  3]\n [ 2 25  1  9  4]\n [ 0  0 32  0  9]\n [ 1  6  0 19  1]\n [ 4  1  6  0 28]]\n"
    }
   ],
   "source": [
    "print(cm)"
   ]
  },
  {
   "cell_type": "markdown",
   "metadata": {},
   "source": [
    "### Serialize Random forest model to a file"
   ]
  },
  {
   "cell_type": "code",
   "execution_count": 3688,
   "metadata": {},
   "outputs": [
    {
     "output_type": "execute_result",
     "data": {
      "text/plain": "['mango_leaf_classifier.rf']"
     },
     "metadata": {},
     "execution_count": 3688
    }
   ],
   "source": [
    "model_file_name = \"mango_leaf_classifier.rf\"\n",
    "# Writes Random Forest Classifier to a file\n",
    "joblib.dump(rf_classifier, model_file_name)"
   ]
  }
 ],
 "metadata": {
  "kernelspec": {
   "display_name": "Python 3.7.5 64-bit",
   "language": "python",
   "name": "python37564bit16bfccd637014070bb78f16ad8819a3c"
  },
  "language_info": {
   "codemirror_mode": {
    "name": "ipython",
    "version": 3
   },
   "file_extension": ".py",
   "mimetype": "text/x-python",
   "name": "python",
   "nbconvert_exporter": "python",
   "pygments_lexer": "ipython3",
   "version": "3.7.5-final"
  }
 },
 "nbformat": 4,
 "nbformat_minor": 4
}