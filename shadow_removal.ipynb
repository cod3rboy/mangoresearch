{
 "cells": [
  {
   "cell_type": "markdown",
   "metadata": {},
   "source": [
    "# Removing hard shadows from images"
   ]
  },
  {
   "cell_type": "code",
   "execution_count": 4,
   "metadata": {},
   "outputs": [],
   "source": [
    "import numpy as np\n",
    "import matplotlib.pyplot as plt\n",
    "import cv2\n",
    "import math\n",
    "\n",
    "%matplotlib inline"
   ]
  },
  {
   "cell_type": "code",
   "execution_count": 6,
   "metadata": {},
   "outputs": [],
   "source": [
    "# Read an Image from dataset\n",
    "original_img = cv2.imread('MangoLeavesDatabase/Alphonso/front/alphonso_front_4unv4g3l1lwivsgov3xx1h8n.jpg')\n",
    "# Convert color channels from BGR to RGB\n",
    "img2rgb = cv2.cvtColor(original_img, cv2.COLOR_BGR2RGB)\n",
    "# Apply K-Means to reduce color space in image\n",
    "img_pixels = np.float32(img2rgb.reshape((-1, 3)))\n",
    "criteria = (cv2.TERM_CRITERIA_EPS + cv2.TERM_CRITERIA_MAX_ITER, 5, 1.0)\n",
    "K = 3 # no of clusters\n",
    "ret,labels,centers = cv2.kmeans(img_pixels, K, None, criteria, 5, cv2.KMEANS_RANDOM_CENTERS)\n",
    "centers = np.uint8(centers)\n",
    "cluster_img = centers[labels.flatten()]\n",
    "# Change all shadow bluish pixels to white in clustered image\n",
    "for i,p in enumerate(cluster_img):\n",
    "    max_intensity = max(p)\n",
    "    if max_intensity == p[2]:\n",
    "        cluster_img[i] = [255, 255, 255]\n",
    "cluster_img = cluster_img.reshape(img2rgb.shape)\n",
    "# Apply thresholding to clustered image\n",
    "cluster_img2gray = cv2.cvtColor(cluster_img, cv2.COLOR_RGB2GRAY)\n",
    "retval, th_img = cv2.threshold(cluster_img2gray, 0, 255, cv2.THRESH_BINARY_INV+cv2.THRESH_OTSU)\n",
    "# Applying Closing Morphological operation on leaf\n",
    "kernel = np.ones((5, 5),np.uint8)\n",
    "th_img = cv2.morphologyEx(th_img, cv2.MORPH_CLOSE, kernel, iterations=3)\n",
    "# Find contours in threshold image\n",
    "contours, _ = cv2.findContours(th_img, cv2.RETR_EXTERNAL, cv2.CHAIN_APPROX_SIMPLE)\n",
    "if len(contours) != 0:\n",
    "    # Get contour with largest area as leaf contour\n",
    "    leaf_contour = max(contours, key=cv2.contourArea)\n",
    "    # Get the bounding box for leaf contour\n",
    "    x, y, w, h = cv2.boundingRect(leaf_contour)\n",
    "    # Draw contours on original, clustered and threashold images\n",
    "    img1 = cv2.drawContours(img2rgb, [leaf_contour], 0, (255,0,0), 2)\n",
    "    img2 = cv2.drawContours(cluster_img, [leaf_contour], 0, (255,0,0), 2)\n",
    "    img3 = cv2.drawContours(cv2.cvtColor(th_img, cv2.COLOR_GRAY2RGB), [leaf_contour], 0, (255, 0, 0), 2)\n",
    "    # Display Results\n",
    "    \"\"\"titles = ['Original Image','K-Means Image', 'Threshold Image']\n",
    "    imgs = [img1, img2, img3]\n",
    "    plt.figure('Leaf', figsize=(18, 8))\n",
    "    for i in range(0, 3):\n",
    "        plt.subplot(3, 1, i+1)\n",
    "        plt.axis('off')\n",
    "        plt.title(titles[i])\n",
    "        plt.imshow(imgs[i])\n",
    "    plt.show()\"\"\"\n",
    "    cv2.imshow('Original', img1)\n",
    "    cv2.imshow('Clustered', img2)\n",
    "    cv2.imshow('Thresh', img3)\n",
    "    cv2.waitKey(0)\n",
    "    cv2.destroyAllWindows()\n",
    "else:\n",
    "    print('No contour found in image')"
   ]
  },
  {
   "cell_type": "code",
   "execution_count": null,
   "metadata": {},
   "outputs": [],
   "source": []
  }
 ],
 "metadata": {
  "kernelspec": {
   "display_name": "Python 3",
   "language": "python",
   "name": "python3"
  },
  "language_info": {
   "codemirror_mode": {
    "name": "ipython",
    "version": 3
   },
   "file_extension": ".py",
   "mimetype": "text/x-python",
   "name": "python",
   "nbconvert_exporter": "python",
   "pygments_lexer": "ipython3",
   "version": "3.8.1-final"
  }
 },
 "nbformat": 4,
 "nbformat_minor": 4
}